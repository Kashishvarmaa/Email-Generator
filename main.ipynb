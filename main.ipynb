{
 "cells": [
  {
   "cell_type": "code",
   "execution_count": 23,
   "metadata": {},
   "outputs": [],
   "source": [
    "from langchain_groq import ChatGroq\n",
    "\n",
    "llm = ChatGroq(\n",
    "    model=\"llama3-70b-8192\",\n",
    "    temperature=0,\n",
    "    max_tokens=None,\n",
    "    timeout=None,\n",
    "    max_retries=2,\n",
    "    groq_api_key = \"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\"\n",
    "    # other params...\n",
    ")"
   ]
  },
  {
   "cell_type": "code",
   "execution_count": 24,
   "metadata": {},
   "outputs": [
    {
     "name": "stdout",
     "output_type": "stream",
     "text": [
      "That's an easy one!\n",
      "\n",
      "The first person to set foot on the Moon was Neil Armstrong. He stepped out of the lunar module Eagle and onto the Moon's surface on July 20, 1969, during the Apollo 11 mission.\n",
      "\n",
      "Armstrong famously declared, \"That's one small step for man, one giant leap for mankind,\" as he became the first human to set foot on another celestial body.\n",
      "\n",
      "He was followed by fellow astronaut Edwin \"Buzz\" Aldrin, who also walked on the Moon during the mission.\n"
     ]
    }
   ],
   "source": [
    "response = llm.invoke(\"The first person to land on moon . . . \")\n",
    "print(response.content)"
   ]
  },
  {
   "cell_type": "code",
   "execution_count": 36,
   "metadata": {},
   "outputs": [
    {
     "name": "stdout",
     "output_type": "stream",
     "text": [
      "Apply for Senior Manager, Software Engineering Innovation\n",
      "\n",
      "Search JobsSkip navigationSearch JobsNIKE, INC. JOBSContract JobsJoin The Talent CommunityLife @ NikeOverviewBenefitsBrandsOverviewJordanConverseTeamsOverviewAdministrative SupportAdvanced InnovationAir Manufacturing InnovationAviationCommunicationsCustomer ServiceDesignDigitalFacilitiesFinance & AccountingGovernment & Public AffairsHuman ResourcesInsights & AnalyticsLegalManufacturing & EngineeringMarketingMerchandisingPlanningPrivacyProcurementProduct Creation, Development & ManagementRetail CorporateRetail StoresSalesSocial & Community ImpactSports MarketingStrategic PlanningSupply Chain, Distribution & LogisticsSustainabilityTechnologyLocationsOverviewNike WHQNike New York HQEHQ: Hilversum, The NetherlandsELC: Laakdal, BelgiumGreater China HQDiversity, Equity & InclusionOverviewMilitary InclusionDisability InclusionIndigenous InclusionInternshipsTechnologySenior Manager, Software Engineering InnovationBeaverton, OregonBecome a Part of the NIKE, Inc. TeamNIKE, Inc. does more than outfit the world’s best athletes. It is a place to explore potential, obliterate boundaries and push out the edges of what can be. The company looks for people who can grow, think, dream and create. Its culture thrives by embracing diversity and rewarding imagination. The brand seeks achievers, leaders and visionaries. At NIKE, Inc. it’s about each person bringing skills and passion to a challenging and constantly evolving game.NIKE is a technology company. From our flagship website and five-star mobile apps to developing products, managing big data and providing leading edge engineering and systems support, our teams at NIKE Global Technology exist to revolutionize the future at the confluence of tech and sport. We invest and develop advances in technology and employ the most creative people in the world, and then give them the support to constantly innovate, iterate and serve consumers more directly and personally.  Our teams are innovative, diverse, multidisciplinary and collaborative, taking technology into the future and bringing the world with it.Who are we looking for?We are looking for an experienced software engineering manager to lead development of data and sport research technology capabilities.  The successful candidate has a strong technical foundation, embodies an innovative mindset, and is a champion for Diversity, Equity, and Inclusion in the workplace.  As the leader of a team within a large program, we also need someone that can build relationships, influence stakeholders, and cut through ambiguity to provide clarity.  Domain experience building data-centric software products in sport science, medical data, or related field is required.What will you work on?In a typical week, you will spend time to build and coach your engineering team, ensuring they are growing in their craft and have what they need to perform at their best.  You will collaborate with partners to coordinate dependencies, mitigate risks, and make decisions needed to deliver continuous business value through technology.  You will also leverage your technology experience and domain knowledge to contribute to the strategy and program planning of future products, platform capabilities, and teams. Who will you work with?In addition to your engineering team, you will collaborate regularly with Principal Engineers, Solution Architects, Product Managers, Program Managers, Applied Scientists, and peers to align enterprise-wide technical designs and plans.  You will also embed into Nike's Advanced Innovation business unit and work closely with innovators and research scientists.What you bring?Bachelor/Master degree in Computer Science or related technical subject area or equivalent combination of education and experience10+ years software engineering experience5+ years leading full stack DevOps teams that include development, testing, and operations skills3+ years in a leadership role with direct reportsDomain experience building data-centric software products in sports research, medical data, or related field is requiredExcellent verbal and written communication skills, both technical and business-facingAbility to build and maintain relationships with multiple tech and business stakeholdersSolid computer science fundamentals, including algorithms and data structuresFluent in modern software architectural principles and patterns (REST, domain-driven design, microservices, etc)Experience with distributed cloud systems tech (AWS, node.js, EC2, Lambda, DynamoDB, Elasticsearch, or Google Cloud/Azure equivalents)Experience with front-end web application tech (javascript, CSS, html5, Vue, React)Experience delivering data products to users in a lakehouse platform (databricks strongly preferred)Experience delivering Gen AI applications (to production preferred, at minimum POC to business users required)Experience leading engineering in a product model within a large, agile portfolioWe are committed to fostering a diverse and inclusive environment for all employees and job applicants. We offer a number of accommodations to complete our interview process including screen readers, sign language interpreters, accessible and single location for in-person interviews, closed captioning, and other reasonable modifications as needed. If you discover, as you navigate our application process, that you need assistance or an accommodation due to a disability, please complete the Candidate Accommodation Request Form.NIKE, Inc. is a growth company that looks for team members to grow with it. Nike offers a generous total rewards package, casual work environment, a diverse and inclusive culture, and an electric atmosphere for professional development. No matter the location, or the role, every Nike employee shares one galvanizing mission: To bring inspiration and innovation to every athlete* in the world.NIKE, Inc. is committed to employing a diverse workforce. Qualified applicants will receive consideration without regard to race, color, religion, sex, national origin, age, sexual orientation, gender identity, gender expression, veteran status, or disability.How We HireAt NIKE, Inc. we promise to provide a premium, inclusive, compelling and authentic candidate experience. Delivering on this promise means we allow you to be at your best — and to do that, you need to understand how the hiring process works. Transparency is key.\n",
      "\n",
      "* This overview explains our hiring process for corporate roles. Note there may be different hiring steps involved for non-corporate roles.Start nowBenefitsWhether it’s transportation or financial health, we continually invest in our employees to help them achieve greatness — inside and outside of work. All who work here should be able to realize their full potential.Employee Assistance ProgramEmployee Stock Purchase Plan (ESPP)HolidaysMedical PlanPaid Time Off (PTO)Product DiscountsSabbaticalsLearn moreFIND A STOREBECOME A MEMBERSIGN UP FOR EMAILSEND US FEEDBACKSTUDENT DISCOUNTSGET HELPGET HELPOrder StatusDeliveryReturnsPayment OptionsContact Us On Nike.com InquiriesContact Us On All Other InquiriesABOUT NIKEABOUT NIKENewsCareersInvestorsSustainabilityIndia© 2025 Nike, Inc. All Rights ReservedGuidesNike AdaptNike Air MaxNike FlyleatherNike PegasusNike Zoom FlyNike AirNike FlyEaseNike FreeNike ReactNike ZoomXNike Air Force 1Nike FlyknitNike JoyrideNike VaporflyTerms of SaleTerms of UseNike Privacy Policy\n"
     ]
    }
   ],
   "source": [
    "from langchain_community.document_loaders import WebBaseLoader\n",
    "\n",
    "loader = WebBaseLoader(\"https://jobs.nike.com/job/R-44232?from=job%20search%20funnel\")\n",
    "page_data  =  loader.load().pop().page_content\n",
    "\n",
    "print(page_data)"
   ]
  },
  {
   "cell_type": "code",
   "execution_count": 38,
   "metadata": {},
   "outputs": [
    {
     "name": "stdout",
     "output_type": "stream",
     "text": [
      "Here is the extracted job posting in JSON format:\n",
      "\n",
      "```\n",
      "{\n",
      "  \"role\": \"Senior Manager, Software Engineering Innovation\",\n",
      "  \"experience\": \"10+ years software engineering experience, 5+ years leading full stack DevOps teams, 3+ years in a leadership role with direct reports\",\n",
      "  \"skills\": [\n",
      "    \"Domain experience building data-centric software products in sports research, medical data, or related field\",\n",
      "    \"Excellent verbal and written communication skills, both technical and business-facing\",\n",
      "    \"Solid computer science fundamentals, including algorithms and data structures\",\n",
      "    \"Fluent in modern software architectural principles and patterns (REST, domain-driven design, microservices, etc)\",\n",
      "    \"Experience with distributed cloud systems tech (AWS, node.js, EC2, Lambda, DynamoDB, Elasticsearch, or Google Cloud/Azure equivalents)\",\n",
      "    \"Experience with front-end web application tech (javascript, CSS, html5, Vue, React)\",\n",
      "    \"Experience delivering data products to users in a lakehouse platform (databricks strongly preferred)\",\n",
      "    \"Experience delivering Gen AI applications (to production preferred, at minimum POC to business users required)\"\n",
      "  ],\n",
      "  \"description\": \"We are looking for an experienced software engineering manager to lead development of data and sport research technology capabilities. The successful candidate has a strong technical foundation, embodies an innovative mindset, and is a champion for Diversity, Equity, and Inclusion in the workplace.\"\n",
      "}\n",
      "```\n"
     ]
    }
   ],
   "source": [
    "from langchain_core.prompts import PromptTemplate\n",
    "\n",
    "# Instantiation using from_template (recommended)\n",
    "prompt_extract = PromptTemplate.from_template(\n",
    "    \"\"\"\n",
    "    ### SCRAPED TEXT FROM WEBSITE:\n",
    "    {page_data}\n",
    "    ### INSTRUCTIONS:\n",
    "    The scraped text is from the career's page of a website. \n",
    "    Your job is to extract the job postings and return them in JSON format containing the following keys: 'role', 'experience', 'skills', 'description'. \n",
    "    Only return the valid JSON.\n",
    "    ### VALID JSON (NO PREAMBLE):\n",
    "    \"\"\"\n",
    ")\n",
    "\n",
    "# Create the LLM chain\n",
    "chain_extract = prompt_extract | llm\n",
    "\n",
    "# Provide the input data to the chain and invoke it\n",
    "res = chain_extract.invoke(input={'page_data': page_data})\n",
    "\n",
    "# Output the result\n",
    "print(res.content)"
   ]
  },
  {
   "cell_type": "code",
   "execution_count": 40,
   "metadata": {},
   "outputs": [
    {
     "data": {
      "text/plain": [
       "{'role': 'Senior Manager, Software Engineering Innovation',\n",
       " 'experience': '10+ years software engineering experience, 5+ years leading full stack DevOps teams, 3+ years in a leadership role with direct reports',\n",
       " 'skills': ['Domain experience building data-centric software products in sports research, medical data, or related field',\n",
       "  'Excellent verbal and written communication skills, both technical and business-facing',\n",
       "  'Solid computer science fundamentals, including algorithms and data structures',\n",
       "  'Fluent in modern software architectural principles and patterns (REST, domain-driven design, microservices, etc)',\n",
       "  'Experience with distributed cloud systems tech (AWS, node.js, EC2, Lambda, DynamoDB, Elasticsearch, or Google Cloud/Azure equivalents)',\n",
       "  'Experience with front-end web application tech (javascript, CSS, html5, Vue, React)',\n",
       "  'Experience delivering data products to users in a lakehouse platform (databricks strongly preferred)',\n",
       "  'Experience delivering Gen AI applications (to production preferred, at minimum POC to business users required)'],\n",
       " 'description': 'We are looking for an experienced software engineering manager to lead development of data and sport research technology capabilities. The successful candidate has a strong technical foundation, embodies an innovative mindset, and is a champion for Diversity, Equity, and Inclusion in the workplace.'}"
      ]
     },
     "execution_count": 40,
     "metadata": {},
     "output_type": "execute_result"
    }
   ],
   "source": [
    "from langchain_core.output_parsers import JsonOutputParser\n",
    "\n",
    "json_parser = JsonOutputParser()\n",
    "json_res = json_parser.parse(res.content)\n",
    "json_res"
   ]
  },
  {
   "cell_type": "code",
   "execution_count": 41,
   "metadata": {},
   "outputs": [
    {
     "data": {
      "text/plain": [
       "dict"
      ]
     },
     "execution_count": 41,
     "metadata": {},
     "output_type": "execute_result"
    }
   ],
   "source": [
    "type(json_res)"
   ]
  },
  {
   "cell_type": "code",
   "execution_count": 42,
   "metadata": {},
   "outputs": [
    {
     "data": {
      "text/html": [
       "<div>\n",
       "<style scoped>\n",
       "    .dataframe tbody tr th:only-of-type {\n",
       "        vertical-align: middle;\n",
       "    }\n",
       "\n",
       "    .dataframe tbody tr th {\n",
       "        vertical-align: top;\n",
       "    }\n",
       "\n",
       "    .dataframe thead th {\n",
       "        text-align: right;\n",
       "    }\n",
       "</style>\n",
       "<table border=\"1\" class=\"dataframe\">\n",
       "  <thead>\n",
       "    <tr style=\"text-align: right;\">\n",
       "      <th></th>\n",
       "      <th>Techstack</th>\n",
       "      <th>Links</th>\n",
       "    </tr>\n",
       "  </thead>\n",
       "  <tbody>\n",
       "    <tr>\n",
       "      <th>0</th>\n",
       "      <td>React, Node.js, MongoDB</td>\n",
       "      <td>https://example.com/react-portfolio</td>\n",
       "    </tr>\n",
       "    <tr>\n",
       "      <th>1</th>\n",
       "      <td>Angular,.NET, SQL Server</td>\n",
       "      <td>https://example.com/angular-portfolio</td>\n",
       "    </tr>\n",
       "    <tr>\n",
       "      <th>2</th>\n",
       "      <td>Vue.js, Ruby on Rails, PostgreSQL</td>\n",
       "      <td>https://example.com/vue-portfolio</td>\n",
       "    </tr>\n",
       "    <tr>\n",
       "      <th>3</th>\n",
       "      <td>Python, Django, MySQL</td>\n",
       "      <td>https://example.com/python-portfolio</td>\n",
       "    </tr>\n",
       "    <tr>\n",
       "      <th>4</th>\n",
       "      <td>Java, Spring Boot, Oracle</td>\n",
       "      <td>https://example.com/java-portfolio</td>\n",
       "    </tr>\n",
       "    <tr>\n",
       "      <th>5</th>\n",
       "      <td>Flutter, Firebase, GraphQL</td>\n",
       "      <td>https://example.com/flutter-portfolio</td>\n",
       "    </tr>\n",
       "    <tr>\n",
       "      <th>6</th>\n",
       "      <td>WordPress, PHP, MySQL</td>\n",
       "      <td>https://example.com/wordpress-portfolio</td>\n",
       "    </tr>\n",
       "    <tr>\n",
       "      <th>7</th>\n",
       "      <td>Magento, PHP, MySQL</td>\n",
       "      <td>https://example.com/magento-portfolio</td>\n",
       "    </tr>\n",
       "    <tr>\n",
       "      <th>8</th>\n",
       "      <td>React Native, Node.js, MongoDB</td>\n",
       "      <td>https://example.com/react-native-portfolio</td>\n",
       "    </tr>\n",
       "    <tr>\n",
       "      <th>9</th>\n",
       "      <td>iOS, Swift, Core Data</td>\n",
       "      <td>https://example.com/ios-portfolio</td>\n",
       "    </tr>\n",
       "    <tr>\n",
       "      <th>10</th>\n",
       "      <td>Android, Java, Room Persistence</td>\n",
       "      <td>https://example.com/android-portfolio</td>\n",
       "    </tr>\n",
       "    <tr>\n",
       "      <th>11</th>\n",
       "      <td>Kotlin, Android, Firebase</td>\n",
       "      <td>https://example.com/kotlin-android-portfolio</td>\n",
       "    </tr>\n",
       "    <tr>\n",
       "      <th>12</th>\n",
       "      <td>Android TV, Kotlin, Android NDK</td>\n",
       "      <td>https://example.com/android-tv-portfolio</td>\n",
       "    </tr>\n",
       "    <tr>\n",
       "      <th>13</th>\n",
       "      <td>iOS, Swift, ARKit</td>\n",
       "      <td>https://example.com/ios-ar-portfolio</td>\n",
       "    </tr>\n",
       "    <tr>\n",
       "      <th>14</th>\n",
       "      <td>Cross-platform, Xamarin, Azure</td>\n",
       "      <td>https://example.com/xamarin-portfolio</td>\n",
       "    </tr>\n",
       "    <tr>\n",
       "      <th>15</th>\n",
       "      <td>Backend, Kotlin, Spring Boot</td>\n",
       "      <td>https://example.com/kotlin-backend-portfolio</td>\n",
       "    </tr>\n",
       "    <tr>\n",
       "      <th>16</th>\n",
       "      <td>Frontend, TypeScript, Angular</td>\n",
       "      <td>https://example.com/typescript-frontend-portfolio</td>\n",
       "    </tr>\n",
       "    <tr>\n",
       "      <th>17</th>\n",
       "      <td>Full-stack, JavaScript, Express.js</td>\n",
       "      <td>https://example.com/full-stack-js-portfolio</td>\n",
       "    </tr>\n",
       "    <tr>\n",
       "      <th>18</th>\n",
       "      <td>Machine Learning, Python, TensorFlow</td>\n",
       "      <td>https://example.com/ml-python-portfolio</td>\n",
       "    </tr>\n",
       "    <tr>\n",
       "      <th>19</th>\n",
       "      <td>DevOps, Jenkins, Docker</td>\n",
       "      <td>https://example.com/devops-portfolio</td>\n",
       "    </tr>\n",
       "  </tbody>\n",
       "</table>\n",
       "</div>"
      ],
      "text/plain": [
       "                               Techstack  \\\n",
       "0                React, Node.js, MongoDB   \n",
       "1               Angular,.NET, SQL Server   \n",
       "2      Vue.js, Ruby on Rails, PostgreSQL   \n",
       "3                  Python, Django, MySQL   \n",
       "4              Java, Spring Boot, Oracle   \n",
       "5             Flutter, Firebase, GraphQL   \n",
       "6                  WordPress, PHP, MySQL   \n",
       "7                    Magento, PHP, MySQL   \n",
       "8         React Native, Node.js, MongoDB   \n",
       "9                  iOS, Swift, Core Data   \n",
       "10       Android, Java, Room Persistence   \n",
       "11             Kotlin, Android, Firebase   \n",
       "12       Android TV, Kotlin, Android NDK   \n",
       "13                     iOS, Swift, ARKit   \n",
       "14        Cross-platform, Xamarin, Azure   \n",
       "15          Backend, Kotlin, Spring Boot   \n",
       "16         Frontend, TypeScript, Angular   \n",
       "17    Full-stack, JavaScript, Express.js   \n",
       "18  Machine Learning, Python, TensorFlow   \n",
       "19               DevOps, Jenkins, Docker   \n",
       "\n",
       "                                                Links  \n",
       "0                 https://example.com/react-portfolio  \n",
       "1               https://example.com/angular-portfolio  \n",
       "2                   https://example.com/vue-portfolio  \n",
       "3                https://example.com/python-portfolio  \n",
       "4                  https://example.com/java-portfolio  \n",
       "5               https://example.com/flutter-portfolio  \n",
       "6             https://example.com/wordpress-portfolio  \n",
       "7               https://example.com/magento-portfolio  \n",
       "8          https://example.com/react-native-portfolio  \n",
       "9                   https://example.com/ios-portfolio  \n",
       "10              https://example.com/android-portfolio  \n",
       "11       https://example.com/kotlin-android-portfolio  \n",
       "12           https://example.com/android-tv-portfolio  \n",
       "13               https://example.com/ios-ar-portfolio  \n",
       "14              https://example.com/xamarin-portfolio  \n",
       "15       https://example.com/kotlin-backend-portfolio  \n",
       "16  https://example.com/typescript-frontend-portfolio  \n",
       "17        https://example.com/full-stack-js-portfolio  \n",
       "18            https://example.com/ml-python-portfolio  \n",
       "19               https://example.com/devops-portfolio  "
      ]
     },
     "execution_count": 42,
     "metadata": {},
     "output_type": "execute_result"
    }
   ],
   "source": [
    "import pandas as pd\n",
    "\n",
    "df = pd.read_csv(\"my_portfolio.csv\")\n",
    "df"
   ]
  },
  {
   "cell_type": "code",
   "execution_count": 49,
   "metadata": {},
   "outputs": [],
   "source": [
    "import chromadb\n",
    "import uuid\n",
    "\n",
    "client = chromadb.PersistentClient('vectorstore')\n",
    "collection = client.get_or_create_collection(name = \"portfolio\")\n",
    "\n",
    "if not collection.count():\n",
    "    for _, row in df.iterrows():\n",
    "        collection.add(documents=row[\"Techstack\"],\n",
    "        metadatas = {\"links\" : row[\"Links\"]},\n",
    "        ids = [str(uuid.uuid4())])\n"
   ]
  },
  {
   "cell_type": "code",
   "execution_count": 51,
   "metadata": {},
   "outputs": [
    {
     "data": {
      "text/plain": [
       "[[{'links': 'https://example.com/ml-python-portfolio'},\n",
       "  {'links': 'https://example.com/python-portfolio'}],\n",
       " [{'links': 'https://example.com/react-portfolio'},\n",
       "  {'links': 'https://example.com/react-native-portfolio'}]]"
      ]
     },
     "execution_count": 51,
     "metadata": {},
     "output_type": "execute_result"
    }
   ],
   "source": [
    "links = collection.query(query_texts = [\"Experience in Python\", \"Properties in React\"], n_results=2).get('metadatas', [])\n",
    "links"
   ]
  },
  {
   "cell_type": "code",
   "execution_count": 52,
   "metadata": {},
   "outputs": [
    {
     "data": {
      "text/plain": [
       "['Domain experience building data-centric software products in sports research, medical data, or related field',\n",
       " 'Excellent verbal and written communication skills, both technical and business-facing',\n",
       " 'Solid computer science fundamentals, including algorithms and data structures',\n",
       " 'Fluent in modern software architectural principles and patterns (REST, domain-driven design, microservices, etc)',\n",
       " 'Experience with distributed cloud systems tech (AWS, node.js, EC2, Lambda, DynamoDB, Elasticsearch, or Google Cloud/Azure equivalents)',\n",
       " 'Experience with front-end web application tech (javascript, CSS, html5, Vue, React)',\n",
       " 'Experience delivering data products to users in a lakehouse platform (databricks strongly preferred)',\n",
       " 'Experience delivering Gen AI applications (to production preferred, at minimum POC to business users required)']"
      ]
     },
     "execution_count": 52,
     "metadata": {},
     "output_type": "execute_result"
    }
   ],
   "source": [
    "job = json_res\n",
    "job['skills']"
   ]
  },
  {
   "cell_type": "code",
   "execution_count": 53,
   "metadata": {},
   "outputs": [
    {
     "name": "stdout",
     "output_type": "stream",
     "text": [
      "Subject: Expert Software Engineering Innovation Leadership for Your Organization\n",
      "\n",
      "Dear Hiring Manager,\n",
      "\n",
      "I came across your job posting for a Senior Manager, Software Engineering Innovation, and I'm excited to introduce AtliQ, a seasoned AI & Software Consulting company, as a potential partner to fulfill your needs. Our team of experts has a proven track record of delivering innovative software solutions that drive business growth and efficiency.\n",
      "\n",
      "With our extensive experience in software engineering, DevOps, and leadership, I believe we can provide the ideal candidate to lead your development of data and sports research technology capabilities. Our team members possess the required skills, including:\n",
      "\n",
      "* Domain experience in building data-centric software products\n",
      "* Excellent communication skills, both technical and business-facing\n",
      "* Solid computer science fundamentals and fluency in modern software architectural principles\n",
      "* Experience with distributed cloud systems, front-end web application tech, and delivering data products to users in a lakehouse platform\n",
      "* Expertise in delivering Gen AI applications to production\n",
      "\n",
      "At AtliQ, we take pride in our innovative approach, technical expertise, and commitment to Diversity, Equity, and Inclusion in the workplace. Our team is well-equipped to lead your software engineering innovation initiatives and drive business success.\n",
      "\n",
      "To give you a glimpse into our capabilities, I'd like to share some of our relevant portfolio pieces:\n",
      "\n",
      "* Our machine learning and Python expertise: https://example.com/ml-python-portfolio\n",
      "* Our React-based front-end development capabilities: https://example.com/react-portfolio\n",
      "\n",
      "I'd be delighted to discuss how AtliQ can support your organization in finding the perfect candidate for this critical role. Please let me know if you're open to exploring this opportunity further.\n",
      "\n",
      "Best regards,\n",
      "\n",
      "Mohan\n",
      "Business Development Executive, AtliQ\n"
     ]
    }
   ],
   "source": [
    "\n",
    "prompt_email = PromptTemplate.from_template(\n",
    "        \"\"\"\n",
    "        ### JOB DESCRIPTION:\n",
    "        {job_description}\n",
    "        \n",
    "        ### INSTRUCTION:\n",
    "        You are Mohan, a business development executive at AtliQ. AtliQ is an AI & Software Consulting company dedicated to facilitating\n",
    "        the seamless integration of business processes through automated tools. \n",
    "        Over our experience, we have empowered numerous enterprises with tailored solutions, fostering scalability, \n",
    "        process optimization, cost reduction, and heightened overall efficiency. \n",
    "        Your job is to write a cold email to the client regarding the job mentioned above describing the capability of AtliQ \n",
    "        in fulfilling their needs.\n",
    "        Also add the most relevant ones from the following links to showcase Atliq's portfolio: {link_list}\n",
    "        Remember you are Mohan, BDE at AtliQ. \n",
    "        Do not provide a preamble.\n",
    "        ### EMAIL (NO PREAMBLE):\n",
    "        \n",
    "        \"\"\"\n",
    "        )\n",
    "\n",
    "chain_email = prompt_email | llm\n",
    "res = chain_email.invoke({\"job_description\": str(job), \"link_list\": links})\n",
    "print(res.content)"
   ]
  },
  {
   "cell_type": "code",
   "execution_count": null,
   "metadata": {},
   "outputs": [],
   "source": []
  }
 ],
 "metadata": {
  "kernelspec": {
   "display_name": "base",
   "language": "python",
   "name": "python3"
  },
  "language_info": {
   "codemirror_mode": {
    "name": "ipython",
    "version": 3
   },
   "file_extension": ".py",
   "mimetype": "text/x-python",
   "name": "python",
   "nbconvert_exporter": "python",
   "pygments_lexer": "ipython3",
   "version": "3.12.4"
  }
 },
 "nbformat": 4,
 "nbformat_minor": 2
}
